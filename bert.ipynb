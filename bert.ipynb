{
  "nbformat": 4,
  "nbformat_minor": 0,
  "metadata": {
    "colab": {
      "provenance": [],
      "gpuType": "T4",
      "authorship_tag": "ABX9TyPkoq2AR7/Ts3WHZ2ysK1zi",
      "include_colab_link": true
    },
    "kernelspec": {
      "name": "python3",
      "display_name": "Python 3"
    },
    "language_info": {
      "name": "python"
    },
    "accelerator": "GPU"
  },
  "cells": [
    {
      "cell_type": "markdown",
      "metadata": {
        "id": "view-in-github",
        "colab_type": "text"
      },
      "source": [
        "<a href=\"https://colab.research.google.com/github/Ardra-VV/T-C-Manual-FAQ-Chatbot/blob/main/bert.ipynb\" target=\"_parent\"><img src=\"https://colab.research.google.com/assets/colab-badge.svg\" alt=\"Open In Colab\"/></a>"
      ]
    },
    {
      "cell_type": "code",
      "source": [
        "!pip install torch\n",
        "!pip install transformers\n",
        "\n",
        "from transformers import BertTokenizer, BertForQuestionAnswering"
      ],
      "metadata": {
        "colab": {
          "base_uri": "https://localhost:8080/"
        },
        "id": "YEccGeGuGLo5",
        "outputId": "5e414d24-4fa3-4276-a76b-6cf9b12c08cc"
      },
      "execution_count": null,
      "outputs": [
        {
          "output_type": "stream",
          "name": "stdout",
          "text": [
            "Requirement already satisfied: torch in /usr/local/lib/python3.10/dist-packages (2.1.0+cu121)\n",
            "Requirement already satisfied: filelock in /usr/local/lib/python3.10/dist-packages (from torch) (3.13.1)\n",
            "Requirement already satisfied: typing-extensions in /usr/local/lib/python3.10/dist-packages (from torch) (4.10.0)\n",
            "Requirement already satisfied: sympy in /usr/local/lib/python3.10/dist-packages (from torch) (1.12)\n",
            "Requirement already satisfied: networkx in /usr/local/lib/python3.10/dist-packages (from torch) (3.2.1)\n",
            "Requirement already satisfied: jinja2 in /usr/local/lib/python3.10/dist-packages (from torch) (3.1.3)\n",
            "Requirement already satisfied: fsspec in /usr/local/lib/python3.10/dist-packages (from torch) (2023.6.0)\n",
            "Requirement already satisfied: triton==2.1.0 in /usr/local/lib/python3.10/dist-packages (from torch) (2.1.0)\n",
            "Requirement already satisfied: MarkupSafe>=2.0 in /usr/local/lib/python3.10/dist-packages (from jinja2->torch) (2.1.5)\n",
            "Requirement already satisfied: mpmath>=0.19 in /usr/local/lib/python3.10/dist-packages (from sympy->torch) (1.3.0)\n",
            "Requirement already satisfied: transformers in /usr/local/lib/python3.10/dist-packages (4.38.1)\n",
            "Requirement already satisfied: filelock in /usr/local/lib/python3.10/dist-packages (from transformers) (3.13.1)\n",
            "Requirement already satisfied: huggingface-hub<1.0,>=0.19.3 in /usr/local/lib/python3.10/dist-packages (from transformers) (0.20.3)\n",
            "Requirement already satisfied: numpy>=1.17 in /usr/local/lib/python3.10/dist-packages (from transformers) (1.25.2)\n",
            "Requirement already satisfied: packaging>=20.0 in /usr/local/lib/python3.10/dist-packages (from transformers) (23.2)\n",
            "Requirement already satisfied: pyyaml>=5.1 in /usr/local/lib/python3.10/dist-packages (from transformers) (6.0.1)\n",
            "Requirement already satisfied: regex!=2019.12.17 in /usr/local/lib/python3.10/dist-packages (from transformers) (2023.12.25)\n",
            "Requirement already satisfied: requests in /usr/local/lib/python3.10/dist-packages (from transformers) (2.31.0)\n",
            "Requirement already satisfied: tokenizers<0.19,>=0.14 in /usr/local/lib/python3.10/dist-packages (from transformers) (0.15.2)\n",
            "Requirement already satisfied: safetensors>=0.4.1 in /usr/local/lib/python3.10/dist-packages (from transformers) (0.4.2)\n",
            "Requirement already satisfied: tqdm>=4.27 in /usr/local/lib/python3.10/dist-packages (from transformers) (4.66.2)\n",
            "Requirement already satisfied: fsspec>=2023.5.0 in /usr/local/lib/python3.10/dist-packages (from huggingface-hub<1.0,>=0.19.3->transformers) (2023.6.0)\n",
            "Requirement already satisfied: typing-extensions>=3.7.4.3 in /usr/local/lib/python3.10/dist-packages (from huggingface-hub<1.0,>=0.19.3->transformers) (4.10.0)\n",
            "Requirement already satisfied: charset-normalizer<4,>=2 in /usr/local/lib/python3.10/dist-packages (from requests->transformers) (3.3.2)\n",
            "Requirement already satisfied: idna<4,>=2.5 in /usr/local/lib/python3.10/dist-packages (from requests->transformers) (3.6)\n",
            "Requirement already satisfied: urllib3<3,>=1.21.1 in /usr/local/lib/python3.10/dist-packages (from requests->transformers) (2.0.7)\n",
            "Requirement already satisfied: certifi>=2017.4.17 in /usr/local/lib/python3.10/dist-packages (from requests->transformers) (2024.2.2)\n"
          ]
        }
      ]
    },
    {
      "cell_type": "code",
      "source": [
        "from transformers import AutoTokenizer, AutoModelForQuestionAnswering\n",
        "\n",
        "tokenizer = AutoTokenizer.from_pretrained(\"google-bert/bert-large-uncased-whole-word-masking-finetuned-squad\")\n",
        "model = AutoModelForQuestionAnswering.from_pretrained(\"google-bert/bert-large-uncased-whole-word-masking-finetuned-squad\")"
      ],
      "metadata": {
        "colab": {
          "base_uri": "https://localhost:8080/"
        },
        "id": "77ApbwpGIE1a",
        "outputId": "038fd45b-1782-4e26-a362-7016c3115c94"
      },
      "execution_count": null,
      "outputs": [
        {
          "output_type": "stream",
          "name": "stderr",
          "text": [
            "Some weights of the model checkpoint at google-bert/bert-large-uncased-whole-word-masking-finetuned-squad were not used when initializing BertForQuestionAnswering: ['bert.pooler.dense.bias', 'bert.pooler.dense.weight']\n",
            "- This IS expected if you are initializing BertForQuestionAnswering from the checkpoint of a model trained on another task or with another architecture (e.g. initializing a BertForSequenceClassification model from a BertForPreTraining model).\n",
            "- This IS NOT expected if you are initializing BertForQuestionAnswering from the checkpoint of a model that you expect to be exactly identical (initializing a BertForSequenceClassification model from a BertForSequenceClassification model).\n"
          ]
        }
      ]
    },
    {
      "cell_type": "code",
      "source": [
        "def answer_question(question, context):\n",
        "  \"\"\"\n",
        "  Answers a question given a context using the pre-trained model.\n",
        "\n",
        "  Args:\n",
        "      question (str): The question to be answered.\n",
        "      context (str): The context in which to find the answer.\n",
        "\n",
        "  Returns:\n",
        "      str: The answer to the question, or an empty string if no answer is found.\n",
        "  \"\"\"\n",
        "\n",
        "  inputs = tokenizer(question, context, return_tensors=\"pt\")\n",
        "\n",
        "  outputs = model(**inputs)\n",
        "  start_logits = outputs.start_logits.squeeze().tolist()\n",
        "  end_logits = outputs.end_logits.squeeze().tolist()\n",
        "\n",
        "  best_start_index = max(range(len(start_logits)), key=start_logits.__getitem__)\n",
        "  best_end_index = max(range(len(end_logits)), key=end_logits.__getitem__)\n",
        "\n",
        "  if start_logits[best_start_index] < 0.1 or end_logits[best_end_index] < 0.1:\n",
        "    return \"\"\n",
        "\n",
        "  answer = tokenizer.convert_ids_to_tokens(inputs[\"input_ids\"][0][best_start_index:best_end_index+1])\n",
        "\n",
        "  answer = \" \".join(answer)\n",
        "\n",
        "  return answer\n",
        "\n",
        "while True:\n",
        "  context= \"\"\"\n",
        "  Berlin, the vibrant capital of Germany, pulsates with a unique blend of history, culture, and modern energy. Its streets whisper tales of resilience, from the scars of the Berlin Wall to the iconic Brandenburg Gate, a symbol of reunification. Museums like the Deutsches Historisches Museum offer an immersive journey into the country's past, while contemporary art galleries showcase the dynamism of the present.\n",
        "  \"\"\"\n",
        "  question = input(\"Ask your question (or 'q' to exit): \")\n",
        "\n",
        "  if question.lower() == 'q':\n",
        "    print(\"Exiting question answering session.\")\n",
        "    break\n",
        "\n",
        "  if not context:\n",
        "    context = input(\"Provide context (optional, press Enter if not needed): \")\n",
        "\n",
        "  answer = answer_question(question, context)\n",
        "  if answer:\n",
        "    print(\"Answer:\", answer)\n",
        "  else:\n",
        "    print(\"No answer found in the provided context.\")"
      ],
      "metadata": {
        "colab": {
          "base_uri": "https://localhost:8080/"
        },
        "id": "CameDuY_Ik0W",
        "outputId": "a35ddc2e-4563-46bd-f260-9ccae5daf053"
      },
      "execution_count": null,
      "outputs": [
        {
          "output_type": "stream",
          "name": "stdout",
          "text": [
            "Ask your question (or 'q' to exit): where is berlin?\n",
            "Answer: the vibrant capital of germany\n",
            "Ask your question (or 'q' to exit): capital of germany?\n",
            "Answer: berlin\n",
            "Ask your question (or 'q' to exit): q\n",
            "Exiting question answering session.\n"
          ]
        }
      ]
    }
  ]
}